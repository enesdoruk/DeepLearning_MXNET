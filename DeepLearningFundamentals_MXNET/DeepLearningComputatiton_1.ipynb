{
 "cells": [
  {
   "cell_type": "code",
   "execution_count": 3,
   "metadata": {},
   "outputs": [],
   "source": [
    "from mxnet import *\n",
    "from mxnet.gluon import nn\n",
    "npx.set_np()\n",
    "\n"
   ]
  },
  {
   "cell_type": "code",
   "execution_count": 6,
   "metadata": {},
   "outputs": [
    {
     "data": {
      "text/plain": [
       "array([[ 0.02932412, -0.06546377, -0.07086012,  0.03554048,  0.0082543 ,\n",
       "         0.03487837,  0.00308158,  0.02359925,  0.0744891 , -0.0402443 ],\n",
       "       [ 0.01776894, -0.08951396, -0.09595288,  0.0497277 ,  0.03439742,\n",
       "         0.05931327,  0.05047961, -0.02034373,  0.0067703 ,  0.0009637 ]])"
      ]
     },
     "execution_count": 6,
     "metadata": {},
     "output_type": "execute_result"
    }
   ],
   "source": [
    "x = np.random.uniform(size=(2,20))\n",
    "\n",
    "net = nn.Sequential()\n",
    "net.add(nn.Dense(256, activation='relu'))\n",
    "net.add(nn.Dense(10))\n",
    "\n",
    "net.initialize()\n",
    "net(x)"
   ]
  },
  {
   "cell_type": "markdown",
   "metadata": {},
   "source": [
    "## CUSTOM BLOCK"
   ]
  },
  {
   "cell_type": "code",
   "execution_count": 7,
   "metadata": {},
   "outputs": [],
   "source": [
    "class MLP(nn.Block):\n",
    "    \n",
    "    def __init__(self, **kwargs):\n",
    "        super(MLP, self).__init__(**kwargs)\n",
    "        self.hidden = nn.Dense(256, activation='relu')\n",
    "        self.output = nn.Dense(10)\n",
    "        \n",
    "    def forward(self, x):\n",
    "        return self.output(self.hidden(x))\n",
    "        "
   ]
  },
  {
   "cell_type": "code",
   "execution_count": 8,
   "metadata": {},
   "outputs": [
    {
     "data": {
      "text/plain": [
       "array([[-0.06719264, -0.0543559 , -0.01983661, -0.07464816, -0.07466961,\n",
       "         0.05775826,  0.10255943,  0.04728728,  0.01342697,  0.01783174],\n",
       "       [-0.07974197, -0.06915514, -0.0627503 , -0.06871963,  0.00517473,\n",
       "         0.03918917,  0.05325559,  0.05016641, -0.04484216,  0.05205344]])"
      ]
     },
     "execution_count": 8,
     "metadata": {},
     "output_type": "execute_result"
    }
   ],
   "source": [
    "net = MLP()\n",
    "net.initialize()\n",
    "net(x)"
   ]
  },
  {
   "cell_type": "markdown",
   "metadata": {},
   "source": [
    "## SEQUENTIAL BLOCK"
   ]
  },
  {
   "cell_type": "code",
   "execution_count": 9,
   "metadata": {},
   "outputs": [],
   "source": [
    "class MySequential(nn.Block):\n",
    "    def add(self, block):\n",
    "        self._children[block.name] = block\n",
    "    \n",
    "    def forward(self, x):\n",
    "        for block in self._children.values():\n",
    "            x = block(x)\n",
    "        return x"
   ]
  },
  {
   "cell_type": "code",
   "execution_count": 11,
   "metadata": {},
   "outputs": [
    {
     "data": {
      "text/plain": [
       "array([[-0.01329408,  0.04887484, -0.00750186,  0.02435913, -0.01234759,\n",
       "        -0.03700005,  0.01387178,  0.02878573,  0.04961637, -0.00815793],\n",
       "       [ 0.0372449 ,  0.016038  , -0.01329308,  0.0091404 , -0.0341957 ,\n",
       "        -0.0474561 , -0.01623891,  0.03003193,  0.00446071,  0.03678473]])"
      ]
     },
     "execution_count": 11,
     "metadata": {},
     "output_type": "execute_result"
    }
   ],
   "source": [
    "net = MySequential()\n",
    "net.add(nn.Dense(256, activation= 'relu'))\n",
    "net.add(nn.Dense(10))\n",
    "net.initialize()\n",
    "net(x)"
   ]
  },
  {
   "cell_type": "markdown",
   "metadata": {},
   "source": [
    "## EXECUTE FORWARD "
   ]
  },
  {
   "cell_type": "code",
   "execution_count": 12,
   "metadata": {},
   "outputs": [],
   "source": [
    "class FixedHiddenMLP(nn.Block):\n",
    "    \n",
    "    def __init__(self, **kwargs):\n",
    "        super(FixedHiddenMLP, self).__init__(**kwargs)\n",
    "        \n",
    "        self.rand_weight = self.params.get_constant(\n",
    "        'rand_weight', np.random.uniform(size=(20, 20)))\n",
    "        \n",
    "        self.dense = nn.Dense(20, activation='relu')\n",
    "        \n",
    "    def forward(self, x):\n",
    "        x = self.dense(x)\n",
    "        x = npx.relu(np.dot(x, self.rand_weight.data()) +1)\n",
    "        x = self.dense(x)\n",
    "        \n",
    "        while np.abs(x).sum() > 1:\n",
    "            x /= 2\n",
    "        \n",
    "        return x.sum()"
   ]
  },
  {
   "cell_type": "code",
   "execution_count": 13,
   "metadata": {},
   "outputs": [
    {
     "data": {
      "text/plain": [
       "array(0.91638494)"
      ]
     },
     "execution_count": 13,
     "metadata": {},
     "output_type": "execute_result"
    }
   ],
   "source": [
    "net = FixedHiddenMLP()\n",
    "net.initialize()\n",
    "net(x)"
   ]
  },
  {
   "cell_type": "code",
   "execution_count": 14,
   "metadata": {},
   "outputs": [],
   "source": [
    "class NestMLP(nn.Block):\n",
    "    def __init__(self, **kwargs):\n",
    "        super(NestMLP, self).__init__(**kwargs)\n",
    "        \n",
    "        self.net = nn.Sequential()\n",
    "        self.net.add(nn.Dense(64, activation= 'relu'),\n",
    "                    nn.Dense(32, activation= 'relu'))\n",
    "        \n",
    "        self.dense = nn.Dense(16, activation= 'relu')\n",
    "    \n",
    "    def forward(self, x):\n",
    "        return self.dense(self.net(x))"
   ]
  },
  {
   "cell_type": "code",
   "execution_count": 15,
   "metadata": {},
   "outputs": [
    {
     "data": {
      "text/plain": [
       "array(0.66665936)"
      ]
     },
     "execution_count": 15,
     "metadata": {},
     "output_type": "execute_result"
    }
   ],
   "source": [
    "chimera = nn.Sequential()\n",
    "chimera.add(NestMLP(), nn.Dense(20), FixedHiddenMLP())\n",
    "\n",
    "chimera.initialize()\n",
    "chimera(x)"
   ]
  }
 ],
 "metadata": {
  "kernelspec": {
   "display_name": "Python 3",
   "language": "python",
   "name": "python3"
  },
  "language_info": {
   "codemirror_mode": {
    "name": "ipython",
    "version": 3
   },
   "file_extension": ".py",
   "mimetype": "text/x-python",
   "name": "python",
   "nbconvert_exporter": "python",
   "pygments_lexer": "ipython3",
   "version": "3.7.4"
  }
 },
 "nbformat": 4,
 "nbformat_minor": 2
}

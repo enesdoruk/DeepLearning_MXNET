{
 "cells": [
  {
   "cell_type": "markdown",
   "metadata": {},
   "source": [
    "## PARAMETER MANAGEMENT"
   ]
  },
  {
   "cell_type": "code",
   "execution_count": 1,
   "metadata": {},
   "outputs": [
    {
     "name": "stdout",
     "output_type": "stream",
     "text": [
      "sure: 1.603889\n"
     ]
    }
   ],
   "source": [
    "import time \n",
    "start = time.time()\n",
    "from mxnet import init, np, npx\n",
    "from mxnet.gluon import nn\n",
    "npx.set_np()\n",
    "end = time.time()\n",
    "print('sure: %f' %(end - start))"
   ]
  },
  {
   "cell_type": "code",
   "execution_count": 1,
   "metadata": {},
   "outputs": [
    {
     "name": "stdout",
     "output_type": "stream",
     "text": [
      "sure: 1.534556\n"
     ]
    }
   ],
   "source": [
    "import time \n",
    "start = time.time()\n",
    "from mxnet import *\n",
    "from mxnet.gluon import nn\n",
    "npx.set_np()\n",
    "end = time.time()\n",
    "print('sure: %f' %(end - start))"
   ]
  },
  {
   "cell_type": "code",
   "execution_count": 2,
   "metadata": {},
   "outputs": [],
   "source": [
    "net = nn.Sequential()\n",
    "net.add(nn.Dense(256, activation= 'relu'))\n",
    "net.add(nn.Dense(10))\n",
    "net.initialize()"
   ]
  },
  {
   "cell_type": "code",
   "execution_count": 3,
   "metadata": {},
   "outputs": [
    {
     "data": {
      "text/plain": [
       "array([[ 0.06240272, -0.03268593,  0.02582653,  0.02254182, -0.03728798,\n",
       "        -0.04253786,  0.00540613, -0.01364186, -0.09915452, -0.02272738],\n",
       "       [ 0.02816677, -0.03341204,  0.03565666,  0.02506382, -0.04136416,\n",
       "        -0.04941845,  0.01738528,  0.01081961, -0.09932579, -0.01176298]])"
      ]
     },
     "execution_count": 3,
     "metadata": {},
     "output_type": "execute_result"
    }
   ],
   "source": [
    "x = np.random.uniform(size= (2, 20))\n",
    "net(x)"
   ]
  },
  {
   "cell_type": "code",
   "execution_count": 4,
   "metadata": {},
   "outputs": [
    {
     "name": "stdout",
     "output_type": "stream",
     "text": [
      "dense0_ (\n",
      "  Parameter dense0_weight (shape=(256, 20), dtype=float32)\n",
      "  Parameter dense0_bias (shape=(256,), dtype=float32)\n",
      ")\n",
      "dense1_ (\n",
      "  Parameter dense1_weight (shape=(10, 256), dtype=float32)\n",
      "  Parameter dense1_bias (shape=(10,), dtype=float32)\n",
      ")\n"
     ]
    }
   ],
   "source": [
    "print(net[0].params)\n",
    "print(net[1].params)"
   ]
  },
  {
   "cell_type": "code",
   "execution_count": 5,
   "metadata": {},
   "outputs": [
    {
     "name": "stdout",
     "output_type": "stream",
     "text": [
      "Parameter dense1_bias (shape=(10,), dtype=float32)\n",
      "[0. 0. 0. 0. 0. 0. 0. 0. 0. 0.]\n"
     ]
    }
   ],
   "source": [
    "print(net[1].bias)\n",
    "print(net[1].bias.data())"
   ]
  },
  {
   "cell_type": "code",
   "execution_count": 8,
   "metadata": {},
   "outputs": [
    {
     "name": "stdout",
     "output_type": "stream",
     "text": [
      "Parameter dense0_weight (shape=(256, 20), dtype=float32)\n",
      "[[ 0.06700657 -0.00369488  0.0418822  ... -0.05517294 -0.01194733\n",
      "  -0.00369594]\n",
      " [-0.03296221 -0.04391347  0.03839272 ...  0.05636378  0.02545484\n",
      "  -0.007007  ]\n",
      " [-0.0196689   0.01582889 -0.00881553 ...  0.01509629 -0.01908049\n",
      "  -0.02449339]\n",
      " ...\n",
      " [-0.02055008 -0.02618652  0.06762936 ... -0.02315108 -0.06794678\n",
      "  -0.04618235]\n",
      " [ 0.02802853  0.06672969  0.05018687 ... -0.02206502 -0.01315478\n",
      "  -0.03791244]\n",
      " [-0.00638592  0.00914261  0.06667828 ... -0.00800052  0.03406764\n",
      "  -0.03954004]]\n"
     ]
    }
   ],
   "source": [
    "print(net[0].params['dense0_weight'])\n",
    "print(net[0].params['dense0_weight'].data())"
   ]
  },
  {
   "cell_type": "code",
   "execution_count": 9,
   "metadata": {},
   "outputs": [
    {
     "data": {
      "text/plain": [
       "array([[0., 0., 0., ..., 0., 0., 0.],\n",
       "       [0., 0., 0., ..., 0., 0., 0.],\n",
       "       [0., 0., 0., ..., 0., 0., 0.],\n",
       "       ...,\n",
       "       [0., 0., 0., ..., 0., 0., 0.],\n",
       "       [0., 0., 0., ..., 0., 0., 0.],\n",
       "       [0., 0., 0., ..., 0., 0., 0.]])"
      ]
     },
     "execution_count": 9,
     "metadata": {},
     "output_type": "execute_result"
    }
   ],
   "source": [
    "net[0].weight.grad()"
   ]
  },
  {
   "cell_type": "code",
   "execution_count": 10,
   "metadata": {},
   "outputs": [
    {
     "name": "stdout",
     "output_type": "stream",
     "text": [
      "dense0_ (\n",
      "  Parameter dense0_weight (shape=(256, 20), dtype=float32)\n",
      "  Parameter dense0_bias (shape=(256,), dtype=float32)\n",
      ")\n",
      "sequential0_ (\n",
      "  Parameter dense0_weight (shape=(256, 20), dtype=float32)\n",
      "  Parameter dense0_bias (shape=(256,), dtype=float32)\n",
      "  Parameter dense1_weight (shape=(10, 256), dtype=float32)\n",
      "  Parameter dense1_bias (shape=(10,), dtype=float32)\n",
      ")\n"
     ]
    }
   ],
   "source": [
    "print(net[0].collect_params())\n",
    "print(net.collect_params())"
   ]
  },
  {
   "cell_type": "code",
   "execution_count": 15,
   "metadata": {},
   "outputs": [
    {
     "data": {
      "text/plain": [
       "array([0., 0., 0., 0., 0., 0., 0., 0., 0., 0., 0., 0., 0., 0., 0., 0., 0.,\n",
       "       0., 0., 0., 0., 0., 0., 0., 0., 0., 0., 0., 0., 0., 0., 0., 0., 0.,\n",
       "       0., 0., 0., 0., 0., 0., 0., 0., 0., 0., 0., 0., 0., 0., 0., 0., 0.,\n",
       "       0., 0., 0., 0., 0., 0., 0., 0., 0., 0., 0., 0., 0., 0., 0., 0., 0.,\n",
       "       0., 0., 0., 0., 0., 0., 0., 0., 0., 0., 0., 0., 0., 0., 0., 0., 0.,\n",
       "       0., 0., 0., 0., 0., 0., 0., 0., 0., 0., 0., 0., 0., 0., 0., 0., 0.,\n",
       "       0., 0., 0., 0., 0., 0., 0., 0., 0., 0., 0., 0., 0., 0., 0., 0., 0.,\n",
       "       0., 0., 0., 0., 0., 0., 0., 0., 0., 0., 0., 0., 0., 0., 0., 0., 0.,\n",
       "       0., 0., 0., 0., 0., 0., 0., 0., 0., 0., 0., 0., 0., 0., 0., 0., 0.,\n",
       "       0., 0., 0., 0., 0., 0., 0., 0., 0., 0., 0., 0., 0., 0., 0., 0., 0.,\n",
       "       0., 0., 0., 0., 0., 0., 0., 0., 0., 0., 0., 0., 0., 0., 0., 0., 0.,\n",
       "       0., 0., 0., 0., 0., 0., 0., 0., 0., 0., 0., 0., 0., 0., 0., 0., 0.,\n",
       "       0., 0., 0., 0., 0., 0., 0., 0., 0., 0., 0., 0., 0., 0., 0., 0., 0.,\n",
       "       0., 0., 0., 0., 0., 0., 0., 0., 0., 0., 0., 0., 0., 0., 0., 0., 0.,\n",
       "       0., 0., 0., 0., 0., 0., 0., 0., 0., 0., 0., 0., 0., 0., 0., 0., 0.,\n",
       "       0.])"
      ]
     },
     "execution_count": 15,
     "metadata": {},
     "output_type": "execute_result"
    }
   ],
   "source": [
    "net.collect_params()['dense0_bias'].data()"
   ]
  },
  {
   "cell_type": "code",
   "execution_count": 16,
   "metadata": {},
   "outputs": [
    {
     "name": "stdout",
     "output_type": "stream",
     "text": [
      "sequential0_ (\n",
      "  Parameter dense0_weight (shape=(256, 20), dtype=float32)\n",
      "  Parameter dense1_weight (shape=(10, 256), dtype=float32)\n",
      ")\n",
      "sequential0_ (\n",
      "  Parameter dense0_weight (shape=(256, 20), dtype=float32)\n",
      "  Parameter dense0_bias (shape=(256,), dtype=float32)\n",
      ")\n"
     ]
    }
   ],
   "source": [
    "print(net.collect_params('.*weight'))\n",
    "print(net.collect_params('dense0.*'))\n"
   ]
  },
  {
   "cell_type": "markdown",
   "metadata": {},
   "source": [
    "## COLLECT PARAMS NESTED BLOCKS"
   ]
  },
  {
   "cell_type": "code",
   "execution_count": 17,
   "metadata": {},
   "outputs": [
    {
     "data": {
      "text/plain": [
       "array([[-4.1923025e-09,  1.9830502e-09,  8.9444063e-10,  6.2912990e-09,\n",
       "        -3.3241778e-09,  5.4330038e-09,  1.6013515e-09, -3.7408681e-09,\n",
       "         8.5468477e-09, -6.4805539e-09],\n",
       "       [-3.7507064e-09,  1.4866974e-09,  6.8314709e-10,  5.6925784e-09,\n",
       "        -2.6349172e-09,  4.8626667e-09,  1.4280275e-09, -3.4603027e-09,\n",
       "         7.4127922e-09, -5.7896132e-09]])"
      ]
     },
     "execution_count": 17,
     "metadata": {},
     "output_type": "execute_result"
    }
   ],
   "source": [
    "def block1():\n",
    "    net = nn.Sequential()\n",
    "    net.add(nn.Dense(32, activation= 'relu'))\n",
    "    net.add(nn.Dense(16, activation= 'relu'))\n",
    "    return net\n",
    "\n",
    "def block2():\n",
    "    net = nn.Sequential()\n",
    "    for i in range(4):\n",
    "        net.add(block1())\n",
    "    return net\n",
    "\n",
    "rgnet = nn.Sequential()\n",
    "rgnet.add(block2())\n",
    "rgnet.add(nn.Dense(10))\n",
    "rgnet.initialize()\n",
    "rgnet(x)"
   ]
  },
  {
   "cell_type": "code",
   "execution_count": 18,
   "metadata": {},
   "outputs": [
    {
     "name": "stdout",
     "output_type": "stream",
     "text": [
      "<bound method Block.collect_params of Sequential(\n",
      "  (0): Sequential(\n",
      "    (0): Sequential(\n",
      "      (0): Dense(20 -> 32, Activation(relu))\n",
      "      (1): Dense(32 -> 16, Activation(relu))\n",
      "    )\n",
      "    (1): Sequential(\n",
      "      (0): Dense(16 -> 32, Activation(relu))\n",
      "      (1): Dense(32 -> 16, Activation(relu))\n",
      "    )\n",
      "    (2): Sequential(\n",
      "      (0): Dense(16 -> 32, Activation(relu))\n",
      "      (1): Dense(32 -> 16, Activation(relu))\n",
      "    )\n",
      "    (3): Sequential(\n",
      "      (0): Dense(16 -> 32, Activation(relu))\n",
      "      (1): Dense(32 -> 16, Activation(relu))\n",
      "    )\n",
      "  )\n",
      "  (1): Dense(16 -> 10, linear)\n",
      ")>\n",
      "sequential1_ (\n",
      "  Parameter dense2_weight (shape=(32, 20), dtype=float32)\n",
      "  Parameter dense2_bias (shape=(32,), dtype=float32)\n",
      "  Parameter dense3_weight (shape=(16, 32), dtype=float32)\n",
      "  Parameter dense3_bias (shape=(16,), dtype=float32)\n",
      "  Parameter dense4_weight (shape=(32, 16), dtype=float32)\n",
      "  Parameter dense4_bias (shape=(32,), dtype=float32)\n",
      "  Parameter dense5_weight (shape=(16, 32), dtype=float32)\n",
      "  Parameter dense5_bias (shape=(16,), dtype=float32)\n",
      "  Parameter dense6_weight (shape=(32, 16), dtype=float32)\n",
      "  Parameter dense6_bias (shape=(32,), dtype=float32)\n",
      "  Parameter dense7_weight (shape=(16, 32), dtype=float32)\n",
      "  Parameter dense7_bias (shape=(16,), dtype=float32)\n",
      "  Parameter dense8_weight (shape=(32, 16), dtype=float32)\n",
      "  Parameter dense8_bias (shape=(32,), dtype=float32)\n",
      "  Parameter dense9_weight (shape=(16, 32), dtype=float32)\n",
      "  Parameter dense9_bias (shape=(16,), dtype=float32)\n",
      "  Parameter dense10_weight (shape=(10, 16), dtype=float32)\n",
      "  Parameter dense10_bias (shape=(10,), dtype=float32)\n",
      ")\n"
     ]
    }
   ],
   "source": [
    "print(rgnet.collect_params)\n",
    "print(rgnet.collect_params())"
   ]
  },
  {
   "cell_type": "code",
   "execution_count": 20,
   "metadata": {},
   "outputs": [
    {
     "data": {
      "text/plain": [
       "array([0., 0., 0., 0., 0., 0., 0., 0., 0., 0., 0., 0., 0., 0., 0., 0., 0.,\n",
       "       0., 0., 0., 0., 0., 0., 0., 0., 0., 0., 0., 0., 0., 0., 0.])"
      ]
     },
     "execution_count": 20,
     "metadata": {},
     "output_type": "execute_result"
    }
   ],
   "source": [
    "rgnet[0][1][0].bias.data()"
   ]
  },
  {
   "cell_type": "code",
   "execution_count": 21,
   "metadata": {},
   "outputs": [
    {
     "data": {
      "text/plain": [
       "array([[-0.06668283, -0.05615795,  0.03207945,  0.06233052, -0.04007202,\n",
       "        -0.03620897,  0.05832634,  0.01770394,  0.02265018,  0.02730031,\n",
       "        -0.03029332, -0.02373442, -0.0334728 , -0.06132633, -0.04613291,\n",
       "         0.02485522],\n",
       "       [ 0.04226188, -0.05293959, -0.00861325, -0.0656759 , -0.03122761,\n",
       "         0.03458199,  0.06339473, -0.05448471,  0.04231372,  0.04356337,\n",
       "         0.01208242,  0.06847104,  0.04234281, -0.01348437, -0.05318226,\n",
       "         0.02044314],\n",
       "       [ 0.02410293,  0.06019162, -0.02461878,  0.0583655 ,  0.02625126,\n",
       "        -0.02620089,  0.06463199, -0.06619769,  0.03925034, -0.02971543,\n",
       "         0.00917824, -0.04397712,  0.03437465, -0.0201811 , -0.00443356,\n",
       "        -0.03022658],\n",
       "       [-0.03080768,  0.04802642, -0.06431124,  0.00342479,  0.02480843,\n",
       "        -0.0518848 , -0.0500372 , -0.01599217, -0.00569128,  0.02323274,\n",
       "         0.02334563,  0.05361784,  0.05478116, -0.005434  ,  0.01531091,\n",
       "         0.05854053],\n",
       "       [-0.03951854,  0.04148562, -0.00363221, -0.05937903,  0.02346681,\n",
       "         0.04379994, -0.04265555, -0.05718853,  0.03250405,  0.05813027,\n",
       "         0.03693539,  0.03049705,  0.00315411, -0.03738129,  0.05023217,\n",
       "        -0.04633841],\n",
       "       [-0.03853642, -0.00565052,  0.00528325,  0.02095659,  0.05518299,\n",
       "        -0.04149802,  0.02858121,  0.06399552,  0.04296241, -0.04915776,\n",
       "        -0.03890698,  0.05040285,  0.01018929, -0.03339002, -0.02463402,\n",
       "        -0.06362014],\n",
       "       [ 0.0222483 ,  0.01454081,  0.00316535, -0.00904243,  0.01756843,\n",
       "        -0.02737569,  0.0164738 , -0.02516375,  0.03310101,  0.02500824,\n",
       "         0.04184353, -0.00398514, -0.06133711, -0.00053149,  0.06277276,\n",
       "        -0.06270961],\n",
       "       [-0.01309771,  0.02794483, -0.04618642,  0.00212687,  0.05907723,\n",
       "         0.04136837,  0.03975879,  0.00603709, -0.01115047, -0.033767  ,\n",
       "         0.01398803, -0.05233055, -0.03833238,  0.00166304, -0.01216176,\n",
       "         0.06360809],\n",
       "       [-0.0138684 , -0.04454293,  0.03556566,  0.01381534, -0.00955878,\n",
       "         0.01067245,  0.03568199, -0.03128897,  0.04061112,  0.04169086,\n",
       "        -0.01601322,  0.02758784, -0.00839113,  0.00153697,  0.00290024,\n",
       "         0.01730427],\n",
       "       [-0.0695085 ,  0.02055126, -0.0426923 ,  0.06437659,  0.0485992 ,\n",
       "        -0.041623  ,  0.03653164,  0.00691015, -0.05919878,  0.04801895,\n",
       "         0.01888567, -0.05327375, -0.06709705,  0.06862352,  0.00478851,\n",
       "         0.03634579],\n",
       "       [-0.04739257, -0.0352058 ,  0.04948333,  0.06646844,  0.01607414,\n",
       "        -0.03801052, -0.06104248,  0.05081587,  0.01977555, -0.03548193,\n",
       "         0.05490775,  0.04459063,  0.0327189 , -0.02426027, -0.05387168,\n",
       "         0.06946784],\n",
       "       [ 0.02311306,  0.04409468,  0.01549838, -0.03434712,  0.01838926,\n",
       "         0.03656233,  0.0413227 ,  0.01032198, -0.02738132, -0.03745416,\n",
       "        -0.02023441, -0.05377688, -0.04174574, -0.00783056, -0.00599535,\n",
       "        -0.04664641],\n",
       "       [-0.01262193,  0.04790256, -0.05822574, -0.02492953, -0.03603509,\n",
       "        -0.04781688, -0.05321014,  0.03100273,  0.00763118, -0.03598391,\n",
       "        -0.04378269,  0.02591533, -0.02441569, -0.01408361,  0.04438747,\n",
       "        -0.01552721],\n",
       "       [ 0.01005889, -0.05545757,  0.00274166, -0.06981519,  0.06221079,\n",
       "         0.06248426, -0.0087708 , -0.06881433,  0.05370975,  0.03381467,\n",
       "         0.01089956,  0.02555076, -0.01325303, -0.0108579 , -0.02154991,\n",
       "         0.00571665],\n",
       "       [ 0.05647292, -0.00951223,  0.00913434,  0.02578741, -0.0347601 ,\n",
       "         0.03097007,  0.00272564, -0.0305718 , -0.03503207,  0.04891884,\n",
       "        -0.03630636,  0.00277189, -0.05192021,  0.04825844,  0.02650329,\n",
       "         0.06048169],\n",
       "       [ 0.03934611, -0.00031868, -0.02469432,  0.03668469, -0.01269847,\n",
       "         0.00659958,  0.04102954, -0.01104683, -0.06771755, -0.01519019,\n",
       "        -0.02340366,  0.01168231, -0.02693678, -0.01654281,  0.00608324,\n",
       "         0.04131111],\n",
       "       [ 0.05528169, -0.04097435, -0.06432766, -0.03201567,  0.04798799,\n",
       "         0.00531401,  0.0079979 , -0.02795544,  0.01227337,  0.02923355,\n",
       "         0.06397519,  0.00466716, -0.05204036, -0.05783158, -0.0312699 ,\n",
       "         0.03598369],\n",
       "       [-0.03779275, -0.0392637 , -0.0043624 ,  0.06211878,  0.01117618,\n",
       "        -0.00876465,  0.03190082,  0.033513  , -0.06257451,  0.03997687,\n",
       "        -0.01034188,  0.01521513,  0.05939841, -0.03631333, -0.00523701,\n",
       "        -0.04988648],\n",
       "       [ 0.04446718,  0.03207516, -0.05432283, -0.03520393, -0.02944456,\n",
       "        -0.03115169,  0.03295556,  0.02027439,  0.01698959,  0.06799153,\n",
       "        -0.00795863,  0.00359505,  0.02364796, -0.02232437,  0.03793556,\n",
       "        -0.06519205],\n",
       "       [ 0.05565121,  0.04427797, -0.00835028,  0.02453174,  0.01996536,\n",
       "         0.03401117, -0.01659556, -0.05198864,  0.05978698,  0.01448367,\n",
       "        -0.00270429, -0.05146866, -0.01252678, -0.05562979,  0.06152598,\n",
       "         0.0335023 ],\n",
       "       [-0.06972542,  0.04223396, -0.02352405,  0.00667713,  0.04734878,\n",
       "        -0.05030042, -0.00679723,  0.034908  , -0.02122591, -0.05501509,\n",
       "         0.0122943 ,  0.01174787, -0.01334539,  0.03275982, -0.02386949,\n",
       "         0.02989534],\n",
       "       [-0.03276374,  0.02964249, -0.02617363, -0.06474155,  0.05938268,\n",
       "         0.05632193,  0.0643542 , -0.00248595, -0.05616372, -0.0505594 ,\n",
       "         0.03295795, -0.0002303 ,  0.02208678, -0.00044992,  0.01833562,\n",
       "         0.02936336],\n",
       "       [-0.06540193, -0.03636218, -0.03171645, -0.0326324 ,  0.03445441,\n",
       "        -0.05906436, -0.00058704, -0.05410419, -0.06665564, -0.01144282,\n",
       "         0.00371218,  0.00525256,  0.04869269,  0.05596999,  0.05297884,\n",
       "         0.0287082 ],\n",
       "       [ 0.05580764,  0.06872768,  0.00382653,  0.01310091, -0.00462454,\n",
       "         0.06144828, -0.03579175,  0.04969392,  0.05125087, -0.06612524,\n",
       "         0.04198001,  0.04146708,  0.05090048, -0.03874703, -0.0383677 ,\n",
       "         0.06276209],\n",
       "       [-0.05629359, -0.05324493,  0.02778231, -0.04123368,  0.05784117,\n",
       "        -0.02752889,  0.05832074, -0.06956717,  0.0040084 , -0.06808444,\n",
       "         0.01989473,  0.01936448, -0.05430863, -0.06217623, -0.03145971,\n",
       "        -0.05582174],\n",
       "       [ 0.00528514, -0.00930234,  0.05330765,  0.03626823, -0.00222044,\n",
       "        -0.02067967,  0.01297915,  0.05409841, -0.0622249 , -0.04517228,\n",
       "         0.06505156, -0.03857677, -0.00106019, -0.06386257, -0.04756214,\n",
       "         0.04287648],\n",
       "       [-0.02254407,  0.03742442,  0.00186303,  0.05990516, -0.05060799,\n",
       "         0.04999049, -0.04246945, -0.06914594,  0.05822556,  0.01882798,\n",
       "         0.05215736, -0.04012408, -0.05287771, -0.06208606, -0.03094029,\n",
       "         0.06718481],\n",
       "       [ 0.01898181, -0.02859636, -0.03363449, -0.00864981, -0.06970826,\n",
       "        -0.00376948,  0.02817003,  0.06616677, -0.042969  , -0.00055914,\n",
       "        -0.02450622,  0.03166016, -0.0302489 , -0.03211131, -0.04866831,\n",
       "         0.00835356],\n",
       "       [-0.05100409,  0.00163124, -0.04971211, -0.05727141,  0.06544884,\n",
       "         0.05051786,  0.03175912, -0.04849043,  0.06161056, -0.00928944,\n",
       "         0.01001559,  0.05730907, -0.02365877,  0.01437531, -0.04705024,\n",
       "        -0.01608884],\n",
       "       [-0.00233012,  0.04071862, -0.00092421, -0.0607396 ,  0.03884578,\n",
       "         0.03646304,  0.00398152,  0.05104633, -0.04272095,  0.03885233,\n",
       "         0.04398669, -0.0298975 , -0.04929176, -0.02235559,  0.00404797,\n",
       "         0.0471956 ],\n",
       "       [-0.06405431, -0.03833994, -0.01831467,  0.0053051 ,  0.02406224,\n",
       "         0.00824168, -0.05058081,  0.04372601,  0.0034832 , -0.06774152,\n",
       "         0.00543749,  0.06998562,  0.05730971, -0.0503804 , -0.00467189,\n",
       "        -0.02015072],\n",
       "       [-0.05903088,  0.02390268, -0.04956878, -0.0672717 , -0.03141479,\n",
       "        -0.00064296,  0.04185356, -0.06814878, -0.03428483, -0.03441316,\n",
       "         0.0153201 ,  0.05873308, -0.05902656, -0.02679667, -0.04169964,\n",
       "         0.06195008]])"
      ]
     },
     "execution_count": 21,
     "metadata": {},
     "output_type": "execute_result"
    }
   ],
   "source": [
    "rgnet[0][1][0].weight.data()"
   ]
  },
  {
   "cell_type": "markdown",
   "metadata": {},
   "source": [
    "## PARAMETER INITIALIZATION"
   ]
  },
  {
   "cell_type": "code",
   "execution_count": 22,
   "metadata": {},
   "outputs": [
    {
     "data": {
      "text/plain": [
       "array([ 5.3957910e-03, -9.8788990e-03, -7.4317548e-03, -7.0842844e-03,\n",
       "        6.4959102e-03, -1.4880487e-02,  1.8743128e-02, -8.2659340e-03,\n",
       "        1.4534276e-03,  1.6201856e-02,  1.5926106e-02,  2.2331162e-03,\n",
       "       -8.8592555e-05, -1.2915777e-02, -7.2338693e-03, -1.7293985e-03,\n",
       "       -4.9947016e-03,  8.7698260e-03,  2.0079103e-03, -9.6906107e-03])"
      ]
     },
     "execution_count": 22,
     "metadata": {},
     "output_type": "execute_result"
    }
   ],
   "source": [
    "net.initialize(init= init.Normal(sigma= 0.01), force_reinit= True)\n",
    "net[0].weight.data()[0]"
   ]
  },
  {
   "cell_type": "code",
   "execution_count": 23,
   "metadata": {},
   "outputs": [
    {
     "data": {
      "text/plain": [
       "array([1., 1., 1., 1., 1., 1., 1., 1., 1., 1., 1., 1., 1., 1., 1., 1., 1.,\n",
       "       1., 1., 1.])"
      ]
     },
     "execution_count": 23,
     "metadata": {},
     "output_type": "execute_result"
    }
   ],
   "source": [
    "net.initialize(init= init.Constant(1), force_reinit= True)\n",
    "net[0].weight.data()[0]"
   ]
  },
  {
   "cell_type": "code",
   "execution_count": 24,
   "metadata": {},
   "outputs": [
    {
     "name": "stdout",
     "output_type": "stream",
     "text": [
      "[-0.06319056 -0.10960881  0.11757872 -0.07595599 -0.0849717   0.0851637\n",
      "  0.08330765  0.04028694 -0.0305525   0.02012795 -0.03856885  0.1375024\n",
      "  0.10155623 -0.05016676 -0.02575382 -0.14205234  0.14225402  0.02719662\n",
      " -0.0888046  -0.00962897]\n",
      "42.0\n"
     ]
    }
   ],
   "source": [
    "net[0].initialize(init= init.Xavier(), force_reinit= True)\n",
    "net[1].initialize(init= init.Constant(42), force_reinit= True)\n",
    "\n",
    "print(net[0].weight.data()[0])\n",
    "print(net[1].weight.data()[0, 0])"
   ]
  },
  {
   "cell_type": "code",
   "execution_count": 26,
   "metadata": {},
   "outputs": [
    {
     "name": "stdout",
     "output_type": "stream",
     "text": [
      "init dense0_weight (256, 20)\n",
      "init dense1_weight (10, 256)\n"
     ]
    },
    {
     "data": {
      "text/plain": [
       "array([-5.172625 , -7.0209026,  5.1446533, -9.844563 ,  8.545956 ,\n",
       "       -0.       ,  0.       , -0.       ,  5.107664 ,  9.658335 ,\n",
       "        5.8564453,  7.4483128,  0.       ,  0.       , -0.       ,\n",
       "        7.9034443,  0.       ,  5.4223766,  8.5655575,  5.1224785])"
      ]
     },
     "execution_count": 26,
     "metadata": {},
     "output_type": "execute_result"
    }
   ],
   "source": [
    "class Myinit(init.Initializer):\n",
    "    def _init_weight(self, name, data):\n",
    "        print('init', name, data.shape)\n",
    "        data[:] = np.random.uniform(-10, 10, data.shape)\n",
    "        data *= np.abs(data) >= 5\n",
    "\n",
    "net.initialize(Myinit(), force_reinit= True)\n",
    "net[0].weight.data()[0]"
   ]
  },
  {
   "cell_type": "code",
   "execution_count": 27,
   "metadata": {},
   "outputs": [
    {
     "data": {
      "text/plain": [
       "array([42.       , -6.0209026,  6.1446533, -8.844563 ,  9.545956 ,\n",
       "        1.       ,  1.       ,  1.       ,  6.107664 , 10.658335 ,\n",
       "        6.8564453,  8.448313 ,  1.       ,  1.       ,  1.       ,\n",
       "        8.903444 ,  1.       ,  6.4223766,  9.5655575,  6.1224785])"
      ]
     },
     "execution_count": 27,
     "metadata": {},
     "output_type": "execute_result"
    }
   ],
   "source": [
    "net[0].weight.data()[:] += 1\n",
    "net[0].weight.data()[0, 0] = 42\n",
    "net[0].weight.data()[0]"
   ]
  },
  {
   "cell_type": "markdown",
   "metadata": {},
   "source": [
    "### TIED PARAMETERS"
   ]
  },
  {
   "cell_type": "code",
   "execution_count": 28,
   "metadata": {},
   "outputs": [
    {
     "data": {
      "text/plain": [
       "array([[ 1.1493918e-05, -3.7545291e-05,  2.5705798e-05, -4.1792186e-06,\n",
       "         1.3921880e-05,  1.0111785e-05,  3.1895048e-05,  5.9858639e-06,\n",
       "        -5.0634389e-05,  3.2276825e-05],\n",
       "       [ 6.7366571e-05, -7.8969111e-05,  7.3926378e-05,  6.7717170e-05,\n",
       "         7.5913667e-05,  2.6337137e-05,  5.5379642e-05,  3.6538037e-05,\n",
       "        -9.0345595e-05,  4.0183393e-05]])"
      ]
     },
     "execution_count": 28,
     "metadata": {},
     "output_type": "execute_result"
    }
   ],
   "source": [
    "net = nn.Sequential()\n",
    "shared = nn.Dense(8, activation= 'relu')\n",
    "net.add(nn.Dense(8, activation= 'relu'),\n",
    "       shared,\n",
    "       nn.Dense(8, activation= 'relu', params= shared.params),\n",
    "       nn.Dense(10))\n",
    "net.initialize()\n",
    "\n",
    "x = np.random.uniform(size= (2, 20))\n",
    "net(x)"
   ]
  },
  {
   "cell_type": "code",
   "execution_count": 29,
   "metadata": {},
   "outputs": [
    {
     "name": "stdout",
     "output_type": "stream",
     "text": [
      "[ True  True  True  True  True  True  True  True]\n",
      "[ True  True  True  True  True  True  True  True]\n"
     ]
    }
   ],
   "source": [
    "print(net[1].weight.data()[0] == net[2].weight.data()[0])\n",
    "net[1].weight.data()[0, 0] = 100\n",
    "\n",
    "print(net[1].weight.data()[0] == net[2].weight.data()[0])"
   ]
  },
  {
   "cell_type": "code",
   "execution_count": null,
   "metadata": {},
   "outputs": [],
   "source": []
  }
 ],
 "metadata": {
  "kernelspec": {
   "display_name": "Python 3",
   "language": "python",
   "name": "python3"
  },
  "language_info": {
   "codemirror_mode": {
    "name": "ipython",
    "version": 3
   },
   "file_extension": ".py",
   "mimetype": "text/x-python",
   "name": "python",
   "nbconvert_exporter": "python",
   "pygments_lexer": "ipython3",
   "version": "3.7.4"
  }
 },
 "nbformat": 4,
 "nbformat_minor": 2
}

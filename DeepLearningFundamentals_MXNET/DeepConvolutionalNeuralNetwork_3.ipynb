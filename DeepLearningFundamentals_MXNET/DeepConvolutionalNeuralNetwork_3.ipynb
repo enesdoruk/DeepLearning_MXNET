{
 "cells": [
  {
   "cell_type": "markdown",
   "metadata": {},
   "source": [
    "## NETWORK IN NETWORK"
   ]
  },
  {
   "cell_type": "code",
   "execution_count": 1,
   "metadata": {},
   "outputs": [],
   "source": [
    "import d2l \n",
    "from mxnet import *\n",
    "from mxnet.gluon import nn\n",
    "npx.set_np()"
   ]
  },
  {
   "cell_type": "code",
   "execution_count": 5,
   "metadata": {},
   "outputs": [],
   "source": [
    "def nin_block(num_channels, kernel_size, strides, padding):\n",
    "    blk = nn.Sequential()\n",
    "    blk.add(nn.Conv2D(num_channels, kernel_size, strides, padding, activation= 'relu'),\n",
    "           nn.Conv2D(num_channels, kernel_size=1, activation= 'relu'),\n",
    "           nn.Conv2D(num_channels, kernel_size=1, activation= 'relu'))\n",
    "    return blk"
   ]
  },
  {
   "cell_type": "code",
   "execution_count": 6,
   "metadata": {},
   "outputs": [],
   "source": [
    "net = nn.Sequential()\n",
    "net.add(nin_block(96, kernel_size=11, strides=4, padding=0),\n",
    "       nn.MaxPool2D(pool_size=3, strides= 2),\n",
    "       nin_block(256, kernel_size=5, strides=1, padding=2),\n",
    "       nn.MaxPool2D(pool_size=3, strides=2),\n",
    "       nin_block(384, kernel_size=3, strides=1, padding=1),\n",
    "       nn.MaxPool2D(pool_size=3, strides=2),\n",
    "       nn.Dropout(0.5),\n",
    "       nin_block(10, kernel_size=3, strides=1, padding=1),\n",
    "       nn.GlobalAvgPool2D(),\n",
    "       nn.Flatten())"
   ]
  },
  {
   "cell_type": "code",
   "execution_count": 7,
   "metadata": {},
   "outputs": [
    {
     "name": "stdout",
     "output_type": "stream",
     "text": [
      "sequential4 output shape: \t (1, 96, 54, 54)\n",
      "pool0 output shape: \t (1, 96, 26, 26)\n",
      "sequential5 output shape: \t (1, 256, 26, 26)\n",
      "pool1 output shape: \t (1, 256, 12, 12)\n",
      "sequential6 output shape: \t (1, 384, 12, 12)\n",
      "pool2 output shape: \t (1, 384, 5, 5)\n",
      "dropout0 output shape: \t (1, 384, 5, 5)\n",
      "sequential7 output shape: \t (1, 10, 5, 5)\n",
      "pool3 output shape: \t (1, 10, 1, 1)\n",
      "flatten0 output shape: \t (1, 10)\n"
     ]
    }
   ],
   "source": [
    "X = np.random.uniform(size=(1,1,224,224))\n",
    "net.initialize()\n",
    "for layer in net:\n",
    "    X = layer(X)\n",
    "    print(layer.name, 'output shape: \\t', X.shape)"
   ]
  },
  {
   "cell_type": "code",
   "execution_count": null,
   "metadata": {},
   "outputs": [],
   "source": [
    "lr, num_epochs, batch_size = 0.1, 10, 128\n",
    "\n",
    "train_iter, test_iter = d2l.load_data_fashion_mnist(batch_size, resize=224)\n",
    "\n",
    "d2l.train_ch6(net, train_iter, test_iter, num_epochs, lr)"
   ]
  }
 ],
 "metadata": {
  "kernelspec": {
   "display_name": "Python 3",
   "language": "python",
   "name": "python3"
  },
  "language_info": {
   "codemirror_mode": {
    "name": "ipython",
    "version": 3
   },
   "file_extension": ".py",
   "mimetype": "text/x-python",
   "name": "python",
   "nbconvert_exporter": "python",
   "pygments_lexer": "ipython3",
   "version": "3.7.4"
  }
 },
 "nbformat": 4,
 "nbformat_minor": 2
}
